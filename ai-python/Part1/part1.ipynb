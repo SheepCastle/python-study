{
 "cells": [
  {
   "cell_type": "code",
   "execution_count": 1,
   "metadata": {},
   "outputs": [
    {
     "name": "stdout",
     "output_type": "stream",
     "text": [
      "인코딩:  {\"콜라\": 1600, \"사이다\": 1500, \"생수\": 1000}\n",
      "디코딩:  {'콜라': 1600, '사이다': 1500, '생수': 1000}\n"
     ]
    }
   ],
   "source": [
    "import json\n",
    "\n",
    "# 파이썬 딕셔너리를 JSON 문자열로 변환\n",
    "data = {'콜라': 1600, '사이다': 1500, '생수': 1000}\n",
    "json_data = json.dumps(data, ensure_ascii = False)\n",
    "decode_data = json.loads(json_data)\n",
    "\n",
    "print(\"인코딩: \", json_data)\n",
    "print(\"디코딩: \", decode_data)"
   ]
  },
  {
   "cell_type": "code",
   "execution_count": 2,
   "metadata": {},
   "outputs": [
    {
     "name": "stdout",
     "output_type": "stream",
     "text": [
      "로드된 파이썬 객체: {'콜라': 1600, '사이다': 1500, '생수': 1000}\n"
     ]
    }
   ],
   "source": [
    "# 파이썬 객체를 파일에 json 형식으로 저장\n",
    "data = {'콜라': 1600, '사이다': 1500, '생수': 1000}\n",
    "with open('data.json', 'w') as file:\n",
    "    json.dump(data, file)\n",
    "\n",
    "# 파일에서 json 데이터를 읽어와 파이썬 객체로 디코딩\n",
    "with open('data.json', 'r') as file:\n",
    "    loaded_data = json.load(file)\n",
    "\n",
    "print(\"로드된 파이썬 객체:\", loaded_data)"
   ]
  },
  {
   "cell_type": "code",
   "execution_count": 3,
   "metadata": {},
   "outputs": [
    {
     "name": "stdout",
     "output_type": "stream",
     "text": [
      "유효한 상품 코드입니다.\n"
     ]
    }
   ],
   "source": [
    "import re\n",
    "product_code = 'snack_1234'\n",
    "if re.match('^snack_\\d{4}$', product_code):\n",
    "    print('유효한 상품 코드입니다.')\n",
    "else:\n",
    "    print('유효하지 않은 상품 코드입니다.')"
   ]
  },
  {
   "cell_type": "code",
   "execution_count": 4,
   "metadata": {},
   "outputs": [
    {
     "name": "stdout",
     "output_type": "stream",
     "text": [
      "콜라를 찾았습니다. 상품을 표시합니다.\n"
     ]
    }
   ],
   "source": [
    "user_input = '콜라를 찾고 있어요.'\n",
    "if re.search('콜라', user_input):\n",
    "    print('콜라를 찾았습니다. 상품을 표시합니다.')\n",
    "else:\n",
    "    print('유효하지 않은 상품 코드입니다.')"
   ]
  },
  {
   "cell_type": "code",
   "execution_count": 9,
   "metadata": {},
   "outputs": [
    {
     "name": "stdout",
     "output_type": "stream",
     "text": [
      "가격: 2500원, 재고: 500개\n"
     ]
    }
   ],
   "source": [
    "product_description = '콜라 상품은 2500원에 판매되며, 현재 500개가 재고로 있습니다.'\n",
    "numbers = re.findall('\\d+', product_description)\n",
    "print(f'가격: {numbers[0]}원, 재고: {numbers[1]}개')"
   ]
  },
  {
   "cell_type": "code",
   "execution_count": 10,
   "metadata": {},
   "outputs": [
    {
     "name": "stdout",
     "output_type": "stream",
     "text": [
      "콜라은, 2500원에 판매되며, 현재 500개의 재고가 있습니다.\n"
     ]
    }
   ],
   "source": [
    "product_description = '상품은, 2500원에 판매되며, 현재 500개의 재고가 있습니다.'\n",
    "new_description = re.sub('상품', '콜라', product_description)\n",
    "print(new_description)"
   ]
  },
  {
   "cell_type": "code",
   "execution_count": null,
   "metadata": {},
   "outputs": [],
   "source": []
  }
 ],
 "metadata": {
  "kernelspec": {
   "display_name": "base",
   "language": "python",
   "name": "python3"
  },
  "language_info": {
   "codemirror_mode": {
    "name": "ipython",
    "version": 3
   },
   "file_extension": ".py",
   "mimetype": "text/x-python",
   "name": "python",
   "nbconvert_exporter": "python",
   "pygments_lexer": "ipython3",
   "version": "3.11.5"
  }
 },
 "nbformat": 4,
 "nbformat_minor": 2
}
